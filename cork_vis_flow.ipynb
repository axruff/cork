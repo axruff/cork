{
 "cells": [
  {
   "cell_type": "code",
   "execution_count": 1,
   "metadata": {},
   "outputs": [],
   "source": [
    "from pathlib import Path\n",
    "\n",
    "import matplotlib.pyplot as plt\n",
    "import matplotlib.patches as patches\n",
    "import matplotlib.cm as cm\n",
    "import matplotlib.image as image\n",
    "from mpl_toolkits.axes_grid1.inset_locator import inset_axes\n",
    "import matplotlib.gridspec as gridspec\n",
    "from matplotlib.offsetbox import (TextArea, DrawingArea, OffsetImage,\n",
    "                                  AnnotationBbox)\n",
    "\n",
    "import cv2\n",
    "from PIL import Image\n",
    "from scipy.ndimage import imread\n",
    "#from mayavi import mlab\n",
    "import ipywidgets as widgets\n",
    "from IPython.display import display\n",
    "\n",
    "from tqdm import tqdm_notebook as tqdm\n",
    "\n",
    "import numpy as np\n",
    "from numpy import ma\n",
    "from numba import vectorize\n",
    "from numba import jit\n",
    "import math"
   ]
  },
  {
   "cell_type": "code",
   "execution_count": 2,
   "metadata": {},
   "outputs": [],
   "source": [
    "def read_3d_volume(fileName, nx, ny, nz, dtype=np.float32):\n",
    "\n",
    "    #print('Reading 3D volume file: ', fileName)\n",
    "    f = open(fileName, \"rb\")\n",
    "    data = np.fromfile(f, dtype=dtype)\n",
    "\n",
    "    #size = nx*ny*nz\n",
    "    shape = (nz, ny, nx)\n",
    "\n",
    "    return data.reshape(shape)\n",
    "\n",
    "def make_mask(im):\n",
    "    ret2,th2 = cv2.threshold(im,0,255,cv2.THRESH_BINARY+cv2.THRESH_OTSU)\n",
    "    \n",
    "    kernel = np.ones((7,7),np.uint8)\n",
    "    closing = cv2.morphologyEx(th2, cv2.MORPH_CLOSE, kernel)\n",
    "    \n",
    "    # Copy the thresholded image.\n",
    "    im_floodfill = closing.copy()\n",
    "    h, w = closing.shape[:2]\n",
    "    mask = np.zeros((h+2, w+2), np.uint8)\n",
    "    cv2.floodFill(im_floodfill, mask, (0,0), 255);\n",
    "    # Invert floodfilled image\n",
    "    im_floodfill_inv = cv2.bitwise_not(im_floodfill) \n",
    "    # Combine the two images to get the foreground.\n",
    "    im_out = closing | im_floodfill_inv\n",
    "    \n",
    "    im_out = im_out / 255.0\n",
    "    \n",
    "    im_out = cv2.GaussianBlur(im_out,(7,7),0)\n",
    "    \n",
    "    return im_out\n",
    "\n",
    "def convertToByte(num):\n",
    "    if num >= 255:\n",
    "        return 255;\n",
    "    elif num < 0:\n",
    "        return 0\n",
    "    else:\n",
    "        return num;\n",
    "\n",
    "def convertToRGB(x, y):\n",
    "\n",
    "    PI = math.pi\n",
    "    \n",
    "    amp = 0        \n",
    "    phi = 0        \n",
    "    alpha = beta = 0 \n",
    "\n",
    "\n",
    "    #//----------------------------------\n",
    "    #    // ATTENTION: Colors could be inverted!\n",
    "    #    //----------------------------------\n",
    "\n",
    "    #    //x = -x;\n",
    "    #    //y = -y;\n",
    "\n",
    "     # determine amplitude and phase (cut amp at 1) */\n",
    "    amp = math.sqrt (x * x + y * y);\n",
    "\n",
    "    if amp > 1: \n",
    "        amp = 1;\n",
    "\n",
    "    if x == 0.0:\n",
    "        if y >= 0.0: \n",
    "            phi = 0.5 * PI;\n",
    "        else: \n",
    "            phi = 1.5 * PI;\n",
    "\n",
    "    elif x > 0.0:\n",
    "        if y >= 0.0:\n",
    "            phi = math.atan (y/x);\n",
    "        else:\n",
    "            phi = 2.0 * PI + math.atan (y/x);\n",
    "    else:\n",
    "        phi = PI + math.atan (y/x);\n",
    "\n",
    "    phi = phi / 2.0;\n",
    "\n",
    "    #// interpolation between red (0) and blue (0.25 * Pi)\n",
    "    if (phi >= 0.0) and (phi < 0.125 * PI):\n",
    "        beta  = phi / (0.125 * PI);\n",
    "        alpha = 1.0 - beta;\n",
    "        r = math.floor(amp * (alpha * 255.0 + beta * 255.0));\n",
    "        g = math.floor(amp * (alpha *   0.0 + beta *   0.0));\n",
    "        b = math.floor(amp * (alpha *   0.0 + beta * 255.0));\n",
    "\n",
    "    if (phi >= 0.125 * PI) and (phi < 0.25 * PI):\n",
    "        beta  = (phi-0.125 * PI) / (0.125 * PI);\n",
    "        alpha = 1.0 - beta;\n",
    "        r = math.floor(amp * (alpha * 255.0 + beta *  64.0));\n",
    "        g = math.floor(amp * (alpha *   0.0 + beta *  64.0));\n",
    "        b = math.floor(amp * (alpha * 255.0 + beta * 255.0));\n",
    "\n",
    "\n",
    "    #// interpolation between blue (0.25 * Pi) and green (0.5 * Pi)\n",
    "    if (phi >= 0.25 * PI) and (phi < 0.375 * PI):\n",
    "        beta  = (phi - 0.25 * PI) / (0.125 * PI);\n",
    "        alpha = 1.0 - beta;\n",
    "        r = math.floor(amp * (alpha *  64.0 + beta *   0.0));\n",
    "        g = math.floor(amp * (alpha *  64.0 + beta * 255.0));\n",
    "        b = math.floor(amp * (alpha * 255.0 + beta * 255.0));\n",
    "\n",
    "    if (phi >= 0.375 * PI) and (phi < 0.5 * PI):\n",
    "        beta  = (phi - 0.375 * PI) / (0.125 * PI);\n",
    "        alpha = 1.0 - beta;\n",
    "        r = math.floor(amp * (alpha *   0.0 + beta *   0.0));\n",
    "        g = math.floor(amp * (alpha * 255.0 + beta * 255.0));\n",
    "        b = math.floor(amp * (alpha * 255.0 + beta *   0.0));\n",
    "\n",
    "\n",
    "    #// interpolation between green (0.5 * Pi) and yellow (0.75 * Pi)\n",
    "    if (phi >= 0.5 * PI) and (phi < 0.75 * PI):\n",
    "        beta  = (phi - 0.5 * PI) / (0.25 * PI);\n",
    "        alpha = 1.0 - beta;\n",
    "        r = math.floor(amp * (alpha * 0.0   + beta * 255.0));\n",
    "        g = math.floor(amp * (alpha * 255.0 + beta * 255.0));\n",
    "        b = math.floor(amp * (alpha * 0.0   + beta * 0.0));\n",
    "\n",
    "    #// interpolation between yellow (0.75 * Pi) and red (Pi)\n",
    "    if (phi >= 0.75 * PI) and (phi <= PI):\n",
    "        beta  = (phi - 0.75 * PI) / (0.25 * PI);\n",
    "        alpha = 1.0 - beta;\n",
    "        r = math.floor(amp * (alpha * 255.0 + beta * 255.0));\n",
    "        g = math.floor(amp * (alpha * 255.0 + beta *   0.0));\n",
    "        b = math.floor(amp * (alpha * 0.0   + beta *   0.0));\n",
    "\n",
    "\n",
    "    return (convertToByte(r), convertToByte(g), convertToByte(b))\n",
    "\n",
    "\n",
    "def convert2rgb(u, v, mask=None):\n",
    "    \n",
    "    nx = u.shape[1]\n",
    "    ny = u.shape[0]\n",
    "    \n",
    "    #if mask == None:\n",
    "    #     mask=np.ones((ny, nx))\n",
    "        \n",
    "    color = np.zeros((ny,nx,3), np.uint8)\n",
    "\n",
    "    for i in range(ny-1):\n",
    "        for j in range(nx-1):\n",
    "            x = u[i, j] * mask[i,j]\n",
    "            y = v[i, j] * mask[i,j]\n",
    "\n",
    "            color[i,j] = convertToRGB(x,y) \n",
    "    return color"
   ]
  },
  {
   "cell_type": "code",
   "execution_count": null,
   "metadata": {},
   "outputs": [],
   "source": []
  },
  {
   "cell_type": "code",
   "execution_count": 3,
   "metadata": {},
   "outputs": [],
   "source": [
    "data_path = Path('z:\\\\tomo\\\\ershov\\\\cork\\\\2019-11-InSitu-MotionAnalysis\\\\')\n",
    "\n",
    "datasets = ['HP1031_KI', 'Spray_43e', 'Spray_61a']\n",
    "\n",
    "color_code = image.imread(data_path / 'color.tif')\n",
    "\n",
    "d = 0\n",
    "\n",
    "input_path = data_path / datasets[d] / 'input'\n",
    "output_path = data_path / datasets[d] / 'output'\n",
    "res_path = data_path / datasets[d] / 'results'\n",
    "\n",
    "nx = 450\n",
    "ny = 180\n",
    "nz = 450\n",
    "\n",
    "\n",
    "max_velocity = 6.0\n",
    "flow_color_scale = 1.0 / (max_velocity - 2)\n",
    "\n",
    "pixel_size = 18.94\n",
    "time_scale = 2 # seconds\n",
    "\n",
    "vel_factor = pixel_size / time_scale\n",
    "\n",
    "fontsize = 20\n",
    "output_dpi = 150\n",
    "plt.style.use('default')\n",
    "\n"
   ]
  },
  {
   "cell_type": "code",
   "execution_count": 13,
   "metadata": {},
   "outputs": [
    {
     "name": "stdout",
     "output_type": "stream",
     "text": [
      "Reading 3D volume file:  z:\\tomo\\ershov\\cork\\2019-11-InSitu-MotionAnalysis\\Spray_43e\\input\\003_scaled2_450-450-180.raw\n",
      "Reading 3D volume file:  z:\\tomo\\ershov\\cork\\2019-11-InSitu-MotionAnalysis\\Spray_43e\\output\\003_flow-u-450-180-450.raw\n",
      "Reading 3D volume file:  z:\\tomo\\ershov\\cork\\2019-11-InSitu-MotionAnalysis\\Spray_43e\\output\\003_flow-v-450-180-450.raw\n",
      "Reading 3D volume file:  z:\\tomo\\ershov\\cork\\2019-11-InSitu-MotionAnalysis\\Spray_43e\\output\\003_flow-w-450-180-450.raw\n"
     ]
    }
   ],
   "source": [
    "time_frame = 3\n",
    "\n",
    "\n",
    "orig = read_3d_volume(input_path / '{}_scaled2_{}-{}-{}.raw'.format(str(time_frame).zfill(3), nx, nz, ny), nx, ny, nz, np.uint8)\n",
    "u = read_3d_volume(output_path / '{}_flow-u-{}-{}-{}.raw'.format(str(time_frame).zfill(3), nx, ny, nz), nx, ny, nz)\n",
    "v = read_3d_volume(output_path / '{}_flow-v-{}-{}-{}.raw'.format(str(time_frame).zfill(3), nx, ny, nz), nx, ny, nz)\n",
    "w = read_3d_volume(output_path / '{}_flow-w-{}-{}-{}.raw'.format(str(time_frame).zfill(3), nx, ny, nz), nx, ny, nz)\n"
   ]
  },
  {
   "cell_type": "code",
   "execution_count": 14,
   "metadata": {},
   "outputs": [],
   "source": [
    "# Coordinates correction\n",
    "#u = np.flipud(u)\n",
    "#v = np.flipud(v)\n",
    "#w = np.flipud(w)\n",
    "\n",
    "#z_slice=200-1\n"
   ]
  },
  {
   "cell_type": "code",
   "execution_count": 4,
   "metadata": {},
   "outputs": [],
   "source": [
    "\n",
    "\n",
    "def make_figure(image, imx, imy, imz, time_frame, slice_num, view, save=False):\n",
    "    fig = plt.figure()\n",
    "\n",
    "    scale = 0.6\n",
    "    \n",
    "    if view == 'side':\n",
    "        size_x = 20\n",
    "        size_y = 8\n",
    "    else:\n",
    "        size_x = 15\n",
    "        size_y = 15\n",
    "        \n",
    "\n",
    "    fig.set_size_inches(size_x*scale, size_y*scale, forward=True)\n",
    "    plt.subplots_adjust(top=1.0, bottom=0.0, left=0.0, right=1.0, wspace=0.02, hspace=0.02 )\n",
    "\n",
    "    gs = gridspec.GridSpec(2, 2)\n",
    "    \n",
    "    #-----------------------------\n",
    "    # Plot 1: Original\n",
    "    #-----------------------------\n",
    "    \n",
    "    #im = orig[slice_num]\n",
    "    im =image\n",
    "    ax0 = plt.subplot(gs[0, 0])\n",
    "    #bbox_props = dict(boxstyle=\"square\", fc=\"black\", ec=\"black\", alpha=0.5)\n",
    "    #ax0.text(10, 30, r't = {} $ \\mu$s'.format(keep_indexs[i]*frame_rate), fontsize=fontsize, color='white', weight='normal', bbox=bbox_props)\n",
    "    ax0.text(10, 20, r'{:.0f}s'.format(time_frame*time_scale), fontsize=fontsize, color='white', weight='normal')\n",
    "    plt.axis('off')\n",
    "    plt.imshow(im, cmap='gray')\n",
    "    \n",
    "    mask = make_mask(im)\n",
    "    #mask = mask.astype(n)\n",
    "    #rgb_mask = np.stack((mask, mask, mask), axis=2)\n",
    "    \n",
    "    #rgb_mask = np.moveaxis(rgb_mask, 2, 0)\n",
    "    \n",
    "    # Scale bar \n",
    "    #width_for_100 = 32\n",
    "    #upscale = 468/260\n",
    "    #rect = patches.Rectangle((380-20,300),width_for_100*upscale,5,linewidth=1,edgecolor='w',facecolor='white')\n",
    "    #ax0.add_patch(rect)\n",
    "    #ax0.text(380-5-30, 300 + 32, r'100 $ \\mu$m', fontsize=fontsize, color='white', weight='normal')\n",
    "    \n",
    "    \n",
    "    #-----------------------------\n",
    "    # Plot 2: Flow, color.coded\n",
    "    #-----------------------------\n",
    "\n",
    "    flow = convert2rgb(imx*flow_color_scale, imy*flow_color_scale, mask)\n",
    "    \n",
    "    ax1 = plt.subplot(gs[0, 1])\n",
    "    plt.axis('off')\n",
    "    plt.imshow(flow)\n",
    "    \n",
    "    # Flow color code\n",
    "    # draw only for the first frame \n",
    "    #if i == 0:\n",
    "    imagebox = OffsetImage(color_code, zoom=0.7)\n",
    "    ab = AnnotationBbox(imagebox, (420 -2,30), pad=0)\n",
    "    ax1.add_artist(ab)\n",
    "    \n",
    "    #-----------------------------\n",
    "    # Plot 3: Flow Magnitude\n",
    "    #-----------------------------\n",
    "    #vel_factor = 1.0\n",
    "    \n",
    "    #amp = np.sqrt(pow(u[slice_num], 2) + pow(v[slice_num], 2) + + pow(w[slice_num], 2))\n",
    "    amp = np.sqrt(pow(imx, 2) + pow(imy, 2) + + pow(imz, 2))\n",
    "    \n",
    "    \n",
    "    ax2 = plt.subplot(gs[1, 0])\n",
    "    plt.axis('off')\n",
    "    plt.imshow(amp*vel_factor*mask, vmax=max_velocity*vel_factor, cmap='inferno')\n",
    "    \n",
    "    # Color bar\n",
    "\n",
    "    #res[3:190, w-60:w-3] = 0\n",
    "    cbaxes2 = inset_axes(ax2, width=\"2.7%\", height=\"45%\", loc=1, borderpad=1) \n",
    "    cbaxes2.tick_params(color='white', labelcolor='white', labelsize = 13)\n",
    "    cbaxes2.patch.set_facecolor([1,1,0,0.5])\n",
    "    plt.colorbar(cax=cbaxes2, orientation='vertical')\n",
    "    cbaxes2.yaxis.set_ticks_position('left')\n",
    "    \n",
    "    \n",
    "    #-----------------------------\n",
    "    # Plot 4: Out of plane component\n",
    "    #-----------------------------\n",
    "    \n",
    "    ax3 = plt.subplot(gs[1, 1])\n",
    "    plt.axis('off')\n",
    "    plt.imshow(imz*vel_factor*mask, vmin= -max_velocity*0.8*vel_factor, vmax=max_velocity*0.8*vel_factor, cmap='seismic')\n",
    "    \n",
    "    #ax = plt.imshow(w[z_slice], vmin= -4.0, vmax=4.0, cmap='seismic')\n",
    "    #plt.colorbar()\n",
    "    #plt.title('Displacement field, z-component. t = ' + str(time_frame))\n",
    "    \n",
    "    cbaxes3 = inset_axes(ax3, width=\"2.7%\", height=\"45%\", loc=1, borderpad=1) \n",
    "    cbaxes3.tick_params(color='black', labelcolor='black', labelsize = 13)\n",
    "    cbaxes3.patch.set_facecolor([1,1,0,0.5])\n",
    "    plt.colorbar(cax=cbaxes3, orientation='vertical')\n",
    "    cbaxes3.yaxis.set_ticks_position('left')\n",
    "    cbaxes3.yaxis.set\n",
    "    \n",
    "    #fig.savefig(res_path / 'test.tif'.format(datasets[d], str(time_frame).zfill(2), str(slice_num).zfill(3)))\n",
    "    save_path = res_path / view\n",
    "    \n",
    "    if save:\n",
    "        fig.savefig(save_path / 'movie_{}_time{}_slice{}.tif'.format(datasets[d], str(time_frame).zfill(2), str(slice_num).zfill(3)))\n",
    "        plt.close()\n",
    "    else:\n",
    "        plt.show()\n"
   ]
  },
  {
   "cell_type": "code",
   "execution_count": 5,
   "metadata": {},
   "outputs": [
    {
     "ename": "NameError",
     "evalue": "name 'orig' is not defined",
     "output_type": "error",
     "traceback": [
      "\u001b[1;31m---------------------------------------------------------------------------\u001b[0m",
      "\u001b[1;31mNameError\u001b[0m                                 Traceback (most recent call last)",
      "\u001b[1;32m<ipython-input-5-0ac99d186668>\u001b[0m in \u001b[0;36m<module>\u001b[1;34m\u001b[0m\n\u001b[0;32m     12\u001b[0m     \u001b[0mfz\u001b[0m \u001b[1;33m=\u001b[0m \u001b[0mw\u001b[0m\u001b[1;33m[\u001b[0m\u001b[0ms\u001b[0m\u001b[1;33m]\u001b[0m\u001b[1;33m\u001b[0m\u001b[1;33m\u001b[0m\u001b[0m\n\u001b[0;32m     13\u001b[0m \u001b[1;32melse\u001b[0m\u001b[1;33m:\u001b[0m\u001b[1;33m\u001b[0m\u001b[1;33m\u001b[0m\u001b[0m\n\u001b[1;32m---> 14\u001b[1;33m     \u001b[0mimg\u001b[0m \u001b[1;33m=\u001b[0m \u001b[0morig\u001b[0m\u001b[1;33m[\u001b[0m\u001b[1;33m:\u001b[0m\u001b[1;33m,\u001b[0m\u001b[0ms\u001b[0m\u001b[1;33m]\u001b[0m\u001b[1;33m\u001b[0m\u001b[1;33m\u001b[0m\u001b[0m\n\u001b[0m\u001b[0;32m     15\u001b[0m     \u001b[0mfx\u001b[0m \u001b[1;33m=\u001b[0m \u001b[0mu\u001b[0m\u001b[1;33m[\u001b[0m\u001b[1;33m:\u001b[0m\u001b[1;33m,\u001b[0m\u001b[0ms\u001b[0m\u001b[1;33m]\u001b[0m\u001b[1;33m\u001b[0m\u001b[1;33m\u001b[0m\u001b[0m\n\u001b[0;32m     16\u001b[0m     \u001b[0mfy\u001b[0m \u001b[1;33m=\u001b[0m \u001b[0mw\u001b[0m\u001b[1;33m[\u001b[0m\u001b[1;33m:\u001b[0m\u001b[1;33m,\u001b[0m\u001b[0ms\u001b[0m\u001b[1;33m]\u001b[0m\u001b[1;33m\u001b[0m\u001b[1;33m\u001b[0m\u001b[0m\n",
      "\u001b[1;31mNameError\u001b[0m: name 'orig' is not defined"
     ]
    }
   ],
   "source": [
    "\n",
    "#image = orig[150]\n",
    "\n",
    "view = 'top'\n",
    "s = 160\n",
    "\n",
    "# Side view\n",
    "if view == 'side':\n",
    "    img = orig[s]\n",
    "    fx = u[s] \n",
    "    fy = v[s]\n",
    "    fz = w[s]\n",
    "else:\n",
    "    img = orig[:,s]\n",
    "    fx = u[:,s] \n",
    "    fy = w[:,s] \n",
    "    fz = v[:,s] \n",
    "\n",
    "    \n",
    "#plt.imshow(image)\n",
    "#plt.show()\n",
    "\n",
    "make_figure(img, fx, fy, fz, 3, s)"
   ]
  },
  {
   "cell_type": "code",
   "execution_count": 5,
   "metadata": {},
   "outputs": [
    {
     "name": "stdout",
     "output_type": "stream",
     "text": [
      "Procesing datasetHP1031_KI\n",
      "\n",
      "Analyzing time step: 3\n",
      "Reading data...\n",
      "OK\n"
     ]
    },
    {
     "data": {
      "application/vnd.jupyter.widget-view+json": {
       "model_id": "ab1bcadf9ced40a5a18c0f3ffdbf3bd9",
       "version_major": 2,
       "version_minor": 0
      },
      "text/plain": [
       "HBox(children=(IntProgress(value=0, max=45), HTML(value='')))"
      ]
     },
     "metadata": {},
     "output_type": "display_data"
    },
    {
     "name": "stdout",
     "output_type": "stream",
     "text": [
      "\n"
     ]
    },
    {
     "data": {
      "application/vnd.jupyter.widget-view+json": {
       "model_id": "fe26c911b1684b5bb5058e6f173e4f3a",
       "version_major": 2,
       "version_minor": 0
      },
      "text/plain": [
       "HBox(children=(IntProgress(value=0, max=18), HTML(value='')))"
      ]
     },
     "metadata": {},
     "output_type": "display_data"
    },
    {
     "name": "stdout",
     "output_type": "stream",
     "text": [
      "\n",
      "Analyzing time step: 4\n",
      "Reading data...\n",
      "OK\n"
     ]
    },
    {
     "data": {
      "application/vnd.jupyter.widget-view+json": {
       "model_id": "644f5d062f794b36a8a75f67a1a4e54e",
       "version_major": 2,
       "version_minor": 0
      },
      "text/plain": [
       "HBox(children=(IntProgress(value=0, max=45), HTML(value='')))"
      ]
     },
     "metadata": {},
     "output_type": "display_data"
    },
    {
     "name": "stdout",
     "output_type": "stream",
     "text": [
      "\n"
     ]
    },
    {
     "data": {
      "application/vnd.jupyter.widget-view+json": {
       "model_id": "763cb163e1984b9397d774c18fca4e36",
       "version_major": 2,
       "version_minor": 0
      },
      "text/plain": [
       "HBox(children=(IntProgress(value=0, max=18), HTML(value='')))"
      ]
     },
     "metadata": {},
     "output_type": "display_data"
    },
    {
     "name": "stdout",
     "output_type": "stream",
     "text": [
      "\n",
      "Analyzing time step: 5\n",
      "Reading data...\n",
      "OK\n"
     ]
    },
    {
     "data": {
      "application/vnd.jupyter.widget-view+json": {
       "model_id": "caf14e1440ed45fa8896a958e7315e0a",
       "version_major": 2,
       "version_minor": 0
      },
      "text/plain": [
       "HBox(children=(IntProgress(value=0, max=45), HTML(value='')))"
      ]
     },
     "metadata": {},
     "output_type": "display_data"
    },
    {
     "name": "stdout",
     "output_type": "stream",
     "text": [
      "\n"
     ]
    },
    {
     "data": {
      "application/vnd.jupyter.widget-view+json": {
       "model_id": "387e26ec6eeb4654a340cb8c6fa1a777",
       "version_major": 2,
       "version_minor": 0
      },
      "text/plain": [
       "HBox(children=(IntProgress(value=0, max=18), HTML(value='')))"
      ]
     },
     "metadata": {},
     "output_type": "display_data"
    },
    {
     "name": "stdout",
     "output_type": "stream",
     "text": [
      "\n",
      "Analyzing time step: 6\n",
      "Reading data...\n",
      "OK\n"
     ]
    },
    {
     "data": {
      "application/vnd.jupyter.widget-view+json": {
       "model_id": "fe8ff8c82e534de1af2d51117aca0e4d",
       "version_major": 2,
       "version_minor": 0
      },
      "text/plain": [
       "HBox(children=(IntProgress(value=0, max=45), HTML(value='')))"
      ]
     },
     "metadata": {},
     "output_type": "display_data"
    },
    {
     "name": "stdout",
     "output_type": "stream",
     "text": [
      "\n"
     ]
    },
    {
     "data": {
      "application/vnd.jupyter.widget-view+json": {
       "model_id": "31476f07b55d4d51a6d7c04bb73853ac",
       "version_major": 2,
       "version_minor": 0
      },
      "text/plain": [
       "HBox(children=(IntProgress(value=0, max=18), HTML(value='')))"
      ]
     },
     "metadata": {},
     "output_type": "display_data"
    },
    {
     "name": "stdout",
     "output_type": "stream",
     "text": [
      "\n",
      "Analyzing time step: 7\n",
      "Reading data...\n",
      "OK\n"
     ]
    },
    {
     "data": {
      "application/vnd.jupyter.widget-view+json": {
       "model_id": "354797d9b651477fbd81d1214f092008",
       "version_major": 2,
       "version_minor": 0
      },
      "text/plain": [
       "HBox(children=(IntProgress(value=0, max=45), HTML(value='')))"
      ]
     },
     "metadata": {},
     "output_type": "display_data"
    },
    {
     "name": "stdout",
     "output_type": "stream",
     "text": [
      "\n"
     ]
    },
    {
     "data": {
      "application/vnd.jupyter.widget-view+json": {
       "model_id": "8f324a0dc22746a3a39f3d292251a8b4",
       "version_major": 2,
       "version_minor": 0
      },
      "text/plain": [
       "HBox(children=(IntProgress(value=0, max=18), HTML(value='')))"
      ]
     },
     "metadata": {},
     "output_type": "display_data"
    },
    {
     "name": "stdout",
     "output_type": "stream",
     "text": [
      "\n",
      "Analyzing time step: 8\n",
      "Reading data...\n",
      "OK\n"
     ]
    },
    {
     "data": {
      "application/vnd.jupyter.widget-view+json": {
       "model_id": "11098fb2cde448cea02d00fe6d6d79fb",
       "version_major": 2,
       "version_minor": 0
      },
      "text/plain": [
       "HBox(children=(IntProgress(value=0, max=45), HTML(value='')))"
      ]
     },
     "metadata": {},
     "output_type": "display_data"
    },
    {
     "name": "stdout",
     "output_type": "stream",
     "text": [
      "\n"
     ]
    },
    {
     "data": {
      "application/vnd.jupyter.widget-view+json": {
       "model_id": "45a67d93f0cb48c7b7cc50cba25b7611",
       "version_major": 2,
       "version_minor": 0
      },
      "text/plain": [
       "HBox(children=(IntProgress(value=0, max=18), HTML(value='')))"
      ]
     },
     "metadata": {},
     "output_type": "display_data"
    },
    {
     "name": "stdout",
     "output_type": "stream",
     "text": [
      "\n",
      "Analyzing time step: 9\n",
      "Reading data...\n",
      "OK\n"
     ]
    },
    {
     "data": {
      "application/vnd.jupyter.widget-view+json": {
       "model_id": "e796c878089b457998d33a746858a872",
       "version_major": 2,
       "version_minor": 0
      },
      "text/plain": [
       "HBox(children=(IntProgress(value=0, max=45), HTML(value='')))"
      ]
     },
     "metadata": {},
     "output_type": "display_data"
    },
    {
     "name": "stdout",
     "output_type": "stream",
     "text": [
      "\n"
     ]
    },
    {
     "data": {
      "application/vnd.jupyter.widget-view+json": {
       "model_id": "5c806bbbf5694ccb95f08d2f41531daf",
       "version_major": 2,
       "version_minor": 0
      },
      "text/plain": [
       "HBox(children=(IntProgress(value=0, max=18), HTML(value='')))"
      ]
     },
     "metadata": {},
     "output_type": "display_data"
    },
    {
     "name": "stdout",
     "output_type": "stream",
     "text": [
      "\n",
      "Analyzing time step: 10\n",
      "Reading data...\n",
      "OK\n"
     ]
    },
    {
     "data": {
      "application/vnd.jupyter.widget-view+json": {
       "model_id": "c241fe13690a4bfa8c635e710b606eeb",
       "version_major": 2,
       "version_minor": 0
      },
      "text/plain": [
       "HBox(children=(IntProgress(value=0, max=45), HTML(value='')))"
      ]
     },
     "metadata": {},
     "output_type": "display_data"
    },
    {
     "name": "stdout",
     "output_type": "stream",
     "text": [
      "\n"
     ]
    },
    {
     "data": {
      "application/vnd.jupyter.widget-view+json": {
       "model_id": "550af1156f59405484af0d26d2120249",
       "version_major": 2,
       "version_minor": 0
      },
      "text/plain": [
       "HBox(children=(IntProgress(value=0, max=18), HTML(value='')))"
      ]
     },
     "metadata": {},
     "output_type": "display_data"
    },
    {
     "name": "stdout",
     "output_type": "stream",
     "text": [
      "\n",
      "Analyzing time step: 11\n",
      "Reading data...\n",
      "OK\n"
     ]
    },
    {
     "data": {
      "application/vnd.jupyter.widget-view+json": {
       "model_id": "891c445797694b7bbea4482bddf008f7",
       "version_major": 2,
       "version_minor": 0
      },
      "text/plain": [
       "HBox(children=(IntProgress(value=0, max=45), HTML(value='')))"
      ]
     },
     "metadata": {},
     "output_type": "display_data"
    },
    {
     "name": "stdout",
     "output_type": "stream",
     "text": [
      "\n"
     ]
    },
    {
     "data": {
      "application/vnd.jupyter.widget-view+json": {
       "model_id": "3c85e84ad7114d84ad26b314a4294524",
       "version_major": 2,
       "version_minor": 0
      },
      "text/plain": [
       "HBox(children=(IntProgress(value=0, max=18), HTML(value='')))"
      ]
     },
     "metadata": {},
     "output_type": "display_data"
    },
    {
     "name": "stdout",
     "output_type": "stream",
     "text": [
      "\n",
      "Analyzing time step: 12\n",
      "Reading data...\n",
      "OK\n"
     ]
    },
    {
     "data": {
      "application/vnd.jupyter.widget-view+json": {
       "model_id": "6a34dd3d18f947f9b68587bd6ddfd241",
       "version_major": 2,
       "version_minor": 0
      },
      "text/plain": [
       "HBox(children=(IntProgress(value=0, max=45), HTML(value='')))"
      ]
     },
     "metadata": {},
     "output_type": "display_data"
    },
    {
     "name": "stdout",
     "output_type": "stream",
     "text": [
      "\n"
     ]
    },
    {
     "data": {
      "application/vnd.jupyter.widget-view+json": {
       "model_id": "008d101a3b6b4ab1a44c6f716ef2981a",
       "version_major": 2,
       "version_minor": 0
      },
      "text/plain": [
       "HBox(children=(IntProgress(value=0, max=18), HTML(value='')))"
      ]
     },
     "metadata": {},
     "output_type": "display_data"
    },
    {
     "name": "stdout",
     "output_type": "stream",
     "text": [
      "\n",
      "Analyzing time step: 13\n",
      "Reading data...\n",
      "OK\n"
     ]
    },
    {
     "data": {
      "application/vnd.jupyter.widget-view+json": {
       "model_id": "619100aecfcf40f1b1ef6a62715ef2cc",
       "version_major": 2,
       "version_minor": 0
      },
      "text/plain": [
       "HBox(children=(IntProgress(value=0, max=45), HTML(value='')))"
      ]
     },
     "metadata": {},
     "output_type": "display_data"
    },
    {
     "name": "stdout",
     "output_type": "stream",
     "text": [
      "\n"
     ]
    },
    {
     "data": {
      "application/vnd.jupyter.widget-view+json": {
       "model_id": "a1b3a3df8d2a4f75a761d21e6644524a",
       "version_major": 2,
       "version_minor": 0
      },
      "text/plain": [
       "HBox(children=(IntProgress(value=0, max=18), HTML(value='')))"
      ]
     },
     "metadata": {},
     "output_type": "display_data"
    },
    {
     "name": "stdout",
     "output_type": "stream",
     "text": [
      "\n",
      "Analyzing time step: 14\n",
      "Reading data...\n",
      "OK\n"
     ]
    },
    {
     "data": {
      "application/vnd.jupyter.widget-view+json": {
       "model_id": "f2abc148b8ae4a5a86457e62cd0a3345",
       "version_major": 2,
       "version_minor": 0
      },
      "text/plain": [
       "HBox(children=(IntProgress(value=0, max=45), HTML(value='')))"
      ]
     },
     "metadata": {},
     "output_type": "display_data"
    },
    {
     "name": "stdout",
     "output_type": "stream",
     "text": [
      "\n"
     ]
    },
    {
     "data": {
      "application/vnd.jupyter.widget-view+json": {
       "model_id": "46690906a3e74b7e9066b7d85986778e",
       "version_major": 2,
       "version_minor": 0
      },
      "text/plain": [
       "HBox(children=(IntProgress(value=0, max=18), HTML(value='')))"
      ]
     },
     "metadata": {},
     "output_type": "display_data"
    },
    {
     "name": "stdout",
     "output_type": "stream",
     "text": [
      "\n",
      "Analyzing time step: 15\n",
      "Reading data...\n",
      "OK\n"
     ]
    },
    {
     "data": {
      "application/vnd.jupyter.widget-view+json": {
       "model_id": "66004a9d935d40fe9300af691af85148",
       "version_major": 2,
       "version_minor": 0
      },
      "text/plain": [
       "HBox(children=(IntProgress(value=0, max=45), HTML(value='')))"
      ]
     },
     "metadata": {},
     "output_type": "display_data"
    },
    {
     "name": "stdout",
     "output_type": "stream",
     "text": [
      "\n"
     ]
    },
    {
     "data": {
      "application/vnd.jupyter.widget-view+json": {
       "model_id": "d44ee9243b7548688f948e92a53b2f2f",
       "version_major": 2,
       "version_minor": 0
      },
      "text/plain": [
       "HBox(children=(IntProgress(value=0, max=18), HTML(value='')))"
      ]
     },
     "metadata": {},
     "output_type": "display_data"
    },
    {
     "name": "stdout",
     "output_type": "stream",
     "text": [
      "\n",
      "Analyzing time step: 16\n",
      "Reading data...\n",
      "OK\n"
     ]
    },
    {
     "data": {
      "application/vnd.jupyter.widget-view+json": {
       "model_id": "b3e2f701aeda41feaf34d7ae9a4e16c5",
       "version_major": 2,
       "version_minor": 0
      },
      "text/plain": [
       "HBox(children=(IntProgress(value=0, max=45), HTML(value='')))"
      ]
     },
     "metadata": {},
     "output_type": "display_data"
    },
    {
     "name": "stdout",
     "output_type": "stream",
     "text": [
      "\n"
     ]
    },
    {
     "data": {
      "application/vnd.jupyter.widget-view+json": {
       "model_id": "92fdfce789c149eeb42fc57714ede140",
       "version_major": 2,
       "version_minor": 0
      },
      "text/plain": [
       "HBox(children=(IntProgress(value=0, max=18), HTML(value='')))"
      ]
     },
     "metadata": {},
     "output_type": "display_data"
    },
    {
     "name": "stdout",
     "output_type": "stream",
     "text": [
      "\n",
      "Analyzing time step: 17\n",
      "Reading data...\n",
      "OK\n"
     ]
    },
    {
     "data": {
      "application/vnd.jupyter.widget-view+json": {
       "model_id": "c036b210e9214711828670808229ab61",
       "version_major": 2,
       "version_minor": 0
      },
      "text/plain": [
       "HBox(children=(IntProgress(value=0, max=45), HTML(value='')))"
      ]
     },
     "metadata": {},
     "output_type": "display_data"
    },
    {
     "name": "stdout",
     "output_type": "stream",
     "text": [
      "\n"
     ]
    },
    {
     "data": {
      "application/vnd.jupyter.widget-view+json": {
       "model_id": "9edf98bb0aa549209c635c1669dd3331",
       "version_major": 2,
       "version_minor": 0
      },
      "text/plain": [
       "HBox(children=(IntProgress(value=0, max=18), HTML(value='')))"
      ]
     },
     "metadata": {},
     "output_type": "display_data"
    },
    {
     "name": "stdout",
     "output_type": "stream",
     "text": [
      "\n",
      "Analyzing time step: 18\n",
      "Reading data...\n",
      "OK\n"
     ]
    },
    {
     "data": {
      "application/vnd.jupyter.widget-view+json": {
       "model_id": "8fd957aac44e49de8a453f765b108793",
       "version_major": 2,
       "version_minor": 0
      },
      "text/plain": [
       "HBox(children=(IntProgress(value=0, max=45), HTML(value='')))"
      ]
     },
     "metadata": {},
     "output_type": "display_data"
    },
    {
     "name": "stdout",
     "output_type": "stream",
     "text": [
      "\n"
     ]
    },
    {
     "data": {
      "application/vnd.jupyter.widget-view+json": {
       "model_id": "a719c53defba49fb9c47da708cc98bbe",
       "version_major": 2,
       "version_minor": 0
      },
      "text/plain": [
       "HBox(children=(IntProgress(value=0, max=18), HTML(value='')))"
      ]
     },
     "metadata": {},
     "output_type": "display_data"
    },
    {
     "name": "stdout",
     "output_type": "stream",
     "text": [
      "\n",
      "Analyzing time step: 19\n",
      "Reading data...\n",
      "OK\n"
     ]
    },
    {
     "data": {
      "application/vnd.jupyter.widget-view+json": {
       "model_id": "97b3ab35c2d241ce9b609170c2665fb1",
       "version_major": 2,
       "version_minor": 0
      },
      "text/plain": [
       "HBox(children=(IntProgress(value=0, max=45), HTML(value='')))"
      ]
     },
     "metadata": {},
     "output_type": "display_data"
    },
    {
     "name": "stdout",
     "output_type": "stream",
     "text": [
      "\n"
     ]
    },
    {
     "data": {
      "application/vnd.jupyter.widget-view+json": {
       "model_id": "b32e3a35d7e14079b4ccb6ecf311692b",
       "version_major": 2,
       "version_minor": 0
      },
      "text/plain": [
       "HBox(children=(IntProgress(value=0, max=18), HTML(value='')))"
      ]
     },
     "metadata": {},
     "output_type": "display_data"
    },
    {
     "name": "stdout",
     "output_type": "stream",
     "text": [
      "\n",
      "Analyzing time step: 20\n",
      "Reading data...\n",
      "OK\n"
     ]
    },
    {
     "data": {
      "application/vnd.jupyter.widget-view+json": {
       "model_id": "91a6147cb00641aa8a027f250e16a3f5",
       "version_major": 2,
       "version_minor": 0
      },
      "text/plain": [
       "HBox(children=(IntProgress(value=0, max=45), HTML(value='')))"
      ]
     },
     "metadata": {},
     "output_type": "display_data"
    },
    {
     "name": "stdout",
     "output_type": "stream",
     "text": [
      "\n"
     ]
    },
    {
     "data": {
      "application/vnd.jupyter.widget-view+json": {
       "model_id": "f75434314c7b4617b81ddb0f6e98940a",
       "version_major": 2,
       "version_minor": 0
      },
      "text/plain": [
       "HBox(children=(IntProgress(value=0, max=18), HTML(value='')))"
      ]
     },
     "metadata": {},
     "output_type": "display_data"
    },
    {
     "name": "stdout",
     "output_type": "stream",
     "text": [
      "\n",
      "Procesing datasetSpray_43e\n",
      "\n",
      "Analyzing time step: 0\n",
      "Reading data...\n",
      "OK\n"
     ]
    },
    {
     "data": {
      "application/vnd.jupyter.widget-view+json": {
       "model_id": "fc92881588aa40ae9c3aed20a1d9ac3b",
       "version_major": 2,
       "version_minor": 0
      },
      "text/plain": [
       "HBox(children=(IntProgress(value=0, max=45), HTML(value='')))"
      ]
     },
     "metadata": {},
     "output_type": "display_data"
    },
    {
     "name": "stdout",
     "output_type": "stream",
     "text": [
      "\n"
     ]
    },
    {
     "data": {
      "application/vnd.jupyter.widget-view+json": {
       "model_id": "98dfc3232aca4c1f86cc32856f1c9154",
       "version_major": 2,
       "version_minor": 0
      },
      "text/plain": [
       "HBox(children=(IntProgress(value=0, max=18), HTML(value='')))"
      ]
     },
     "metadata": {},
     "output_type": "display_data"
    },
    {
     "name": "stdout",
     "output_type": "stream",
     "text": [
      "\n",
      "Analyzing time step: 1\n",
      "Reading data...\n",
      "OK\n"
     ]
    },
    {
     "data": {
      "application/vnd.jupyter.widget-view+json": {
       "model_id": "477439d329c54785bd47c447958392ff",
       "version_major": 2,
       "version_minor": 0
      },
      "text/plain": [
       "HBox(children=(IntProgress(value=0, max=45), HTML(value='')))"
      ]
     },
     "metadata": {},
     "output_type": "display_data"
    },
    {
     "name": "stdout",
     "output_type": "stream",
     "text": [
      "\n"
     ]
    },
    {
     "data": {
      "application/vnd.jupyter.widget-view+json": {
       "model_id": "24585d7e84ea41609bcb9e363a9ba02b",
       "version_major": 2,
       "version_minor": 0
      },
      "text/plain": [
       "HBox(children=(IntProgress(value=0, max=18), HTML(value='')))"
      ]
     },
     "metadata": {},
     "output_type": "display_data"
    },
    {
     "name": "stdout",
     "output_type": "stream",
     "text": [
      "\n",
      "Analyzing time step: 2\n",
      "Reading data...\n",
      "OK\n"
     ]
    },
    {
     "data": {
      "application/vnd.jupyter.widget-view+json": {
       "model_id": "130133aada234a74b09b9dd612267c50",
       "version_major": 2,
       "version_minor": 0
      },
      "text/plain": [
       "HBox(children=(IntProgress(value=0, max=45), HTML(value='')))"
      ]
     },
     "metadata": {},
     "output_type": "display_data"
    },
    {
     "name": "stdout",
     "output_type": "stream",
     "text": [
      "\n"
     ]
    },
    {
     "data": {
      "application/vnd.jupyter.widget-view+json": {
       "model_id": "a4efec9cb34b4f589a476dbb3f3e27f1",
       "version_major": 2,
       "version_minor": 0
      },
      "text/plain": [
       "HBox(children=(IntProgress(value=0, max=18), HTML(value='')))"
      ]
     },
     "metadata": {},
     "output_type": "display_data"
    },
    {
     "name": "stdout",
     "output_type": "stream",
     "text": [
      "\n",
      "Analyzing time step: 3\n",
      "Reading data...\n",
      "OK\n"
     ]
    },
    {
     "data": {
      "application/vnd.jupyter.widget-view+json": {
       "model_id": "fdc4aee37e1949ff9074871479b5a0f7",
       "version_major": 2,
       "version_minor": 0
      },
      "text/plain": [
       "HBox(children=(IntProgress(value=0, max=45), HTML(value='')))"
      ]
     },
     "metadata": {},
     "output_type": "display_data"
    },
    {
     "name": "stdout",
     "output_type": "stream",
     "text": [
      "\n"
     ]
    },
    {
     "data": {
      "application/vnd.jupyter.widget-view+json": {
       "model_id": "3d66233f077a48178e42e05988c869a8",
       "version_major": 2,
       "version_minor": 0
      },
      "text/plain": [
       "HBox(children=(IntProgress(value=0, max=18), HTML(value='')))"
      ]
     },
     "metadata": {},
     "output_type": "display_data"
    },
    {
     "name": "stdout",
     "output_type": "stream",
     "text": [
      "\n",
      "Analyzing time step: 4\n",
      "Reading data...\n",
      "OK\n"
     ]
    },
    {
     "data": {
      "application/vnd.jupyter.widget-view+json": {
       "model_id": "5a1a5576770a4f47941091a70e2e5c4e",
       "version_major": 2,
       "version_minor": 0
      },
      "text/plain": [
       "HBox(children=(IntProgress(value=0, max=45), HTML(value='')))"
      ]
     },
     "metadata": {},
     "output_type": "display_data"
    },
    {
     "name": "stdout",
     "output_type": "stream",
     "text": [
      "\n"
     ]
    },
    {
     "data": {
      "application/vnd.jupyter.widget-view+json": {
       "model_id": "ea308b80cd8f418dae4c0b28ad779d37",
       "version_major": 2,
       "version_minor": 0
      },
      "text/plain": [
       "HBox(children=(IntProgress(value=0, max=18), HTML(value='')))"
      ]
     },
     "metadata": {},
     "output_type": "display_data"
    },
    {
     "name": "stdout",
     "output_type": "stream",
     "text": [
      "\n",
      "Analyzing time step: 5\n",
      "Reading data...\n",
      "OK\n"
     ]
    },
    {
     "data": {
      "application/vnd.jupyter.widget-view+json": {
       "model_id": "1ea369629fd74b92988d933424bb01ea",
       "version_major": 2,
       "version_minor": 0
      },
      "text/plain": [
       "HBox(children=(IntProgress(value=0, max=45), HTML(value='')))"
      ]
     },
     "metadata": {},
     "output_type": "display_data"
    },
    {
     "name": "stdout",
     "output_type": "stream",
     "text": [
      "\n"
     ]
    },
    {
     "data": {
      "application/vnd.jupyter.widget-view+json": {
       "model_id": "f3fc2e3061a74f0cb8d72135d1c69adc",
       "version_major": 2,
       "version_minor": 0
      },
      "text/plain": [
       "HBox(children=(IntProgress(value=0, max=18), HTML(value='')))"
      ]
     },
     "metadata": {},
     "output_type": "display_data"
    },
    {
     "name": "stdout",
     "output_type": "stream",
     "text": [
      "\n",
      "Analyzing time step: 6\n",
      "Reading data...\n",
      "OK\n"
     ]
    },
    {
     "data": {
      "application/vnd.jupyter.widget-view+json": {
       "model_id": "4f8030a2675f4ec69173876b27cf7c2e",
       "version_major": 2,
       "version_minor": 0
      },
      "text/plain": [
       "HBox(children=(IntProgress(value=0, max=45), HTML(value='')))"
      ]
     },
     "metadata": {},
     "output_type": "display_data"
    },
    {
     "name": "stdout",
     "output_type": "stream",
     "text": [
      "\n"
     ]
    },
    {
     "data": {
      "application/vnd.jupyter.widget-view+json": {
       "model_id": "b652649ff608476e838b751d5b8ccbd1",
       "version_major": 2,
       "version_minor": 0
      },
      "text/plain": [
       "HBox(children=(IntProgress(value=0, max=18), HTML(value='')))"
      ]
     },
     "metadata": {},
     "output_type": "display_data"
    },
    {
     "name": "stdout",
     "output_type": "stream",
     "text": [
      "\n",
      "Analyzing time step: 7\n",
      "Reading data...\n",
      "OK\n"
     ]
    },
    {
     "data": {
      "application/vnd.jupyter.widget-view+json": {
       "model_id": "a532367e95844bf3b4307ddc3b3bd4e8",
       "version_major": 2,
       "version_minor": 0
      },
      "text/plain": [
       "HBox(children=(IntProgress(value=0, max=45), HTML(value='')))"
      ]
     },
     "metadata": {},
     "output_type": "display_data"
    },
    {
     "name": "stdout",
     "output_type": "stream",
     "text": [
      "\n"
     ]
    },
    {
     "data": {
      "application/vnd.jupyter.widget-view+json": {
       "model_id": "a0decc3b04b74237a2a49bbf599a7f7c",
       "version_major": 2,
       "version_minor": 0
      },
      "text/plain": [
       "HBox(children=(IntProgress(value=0, max=18), HTML(value='')))"
      ]
     },
     "metadata": {},
     "output_type": "display_data"
    },
    {
     "name": "stdout",
     "output_type": "stream",
     "text": [
      "\n",
      "Analyzing time step: 8\n",
      "Reading data...\n",
      "OK\n"
     ]
    },
    {
     "data": {
      "application/vnd.jupyter.widget-view+json": {
       "model_id": "9bba6b98fa26409ea07c46337c7317e6",
       "version_major": 2,
       "version_minor": 0
      },
      "text/plain": [
       "HBox(children=(IntProgress(value=0, max=45), HTML(value='')))"
      ]
     },
     "metadata": {},
     "output_type": "display_data"
    },
    {
     "name": "stdout",
     "output_type": "stream",
     "text": [
      "\n"
     ]
    },
    {
     "data": {
      "application/vnd.jupyter.widget-view+json": {
       "model_id": "7238ca84e3ab420b8d80ed9e1fd2be33",
       "version_major": 2,
       "version_minor": 0
      },
      "text/plain": [
       "HBox(children=(IntProgress(value=0, max=18), HTML(value='')))"
      ]
     },
     "metadata": {},
     "output_type": "display_data"
    },
    {
     "name": "stdout",
     "output_type": "stream",
     "text": [
      "\n",
      "Analyzing time step: 9\n",
      "Reading data...\n",
      "OK\n"
     ]
    },
    {
     "data": {
      "application/vnd.jupyter.widget-view+json": {
       "model_id": "c48f479a07ec459fa7981ec2af1644b5",
       "version_major": 2,
       "version_minor": 0
      },
      "text/plain": [
       "HBox(children=(IntProgress(value=0, max=45), HTML(value='')))"
      ]
     },
     "metadata": {},
     "output_type": "display_data"
    },
    {
     "name": "stdout",
     "output_type": "stream",
     "text": [
      "\n"
     ]
    },
    {
     "data": {
      "application/vnd.jupyter.widget-view+json": {
       "model_id": "7ce0d5d889d34c249ca150b0bfac04cf",
       "version_major": 2,
       "version_minor": 0
      },
      "text/plain": [
       "HBox(children=(IntProgress(value=0, max=18), HTML(value='')))"
      ]
     },
     "metadata": {},
     "output_type": "display_data"
    },
    {
     "name": "stdout",
     "output_type": "stream",
     "text": [
      "\n",
      "Analyzing time step: 10\n",
      "Reading data...\n",
      "OK\n"
     ]
    },
    {
     "data": {
      "application/vnd.jupyter.widget-view+json": {
       "model_id": "a911fb5a0bf24a6bb5e8e34780c667e3",
       "version_major": 2,
       "version_minor": 0
      },
      "text/plain": [
       "HBox(children=(IntProgress(value=0, max=45), HTML(value='')))"
      ]
     },
     "metadata": {},
     "output_type": "display_data"
    },
    {
     "name": "stdout",
     "output_type": "stream",
     "text": [
      "\n"
     ]
    },
    {
     "data": {
      "application/vnd.jupyter.widget-view+json": {
       "model_id": "9bd3e2b1be394e3285f211e3ec42cef9",
       "version_major": 2,
       "version_minor": 0
      },
      "text/plain": [
       "HBox(children=(IntProgress(value=0, max=18), HTML(value='')))"
      ]
     },
     "metadata": {},
     "output_type": "display_data"
    },
    {
     "name": "stdout",
     "output_type": "stream",
     "text": [
      "\n",
      "Analyzing time step: 11\n",
      "Reading data...\n",
      "OK\n"
     ]
    },
    {
     "data": {
      "application/vnd.jupyter.widget-view+json": {
       "model_id": "a3cf7a39e6554197924ca550fdaf31c9",
       "version_major": 2,
       "version_minor": 0
      },
      "text/plain": [
       "HBox(children=(IntProgress(value=0, max=45), HTML(value='')))"
      ]
     },
     "metadata": {},
     "output_type": "display_data"
    },
    {
     "name": "stdout",
     "output_type": "stream",
     "text": [
      "\n"
     ]
    },
    {
     "data": {
      "application/vnd.jupyter.widget-view+json": {
       "model_id": "77774fb9037944e8b960b180640de833",
       "version_major": 2,
       "version_minor": 0
      },
      "text/plain": [
       "HBox(children=(IntProgress(value=0, max=18), HTML(value='')))"
      ]
     },
     "metadata": {},
     "output_type": "display_data"
    },
    {
     "name": "stdout",
     "output_type": "stream",
     "text": [
      "\n",
      "Analyzing time step: 12\n",
      "Reading data...\n",
      "OK\n"
     ]
    },
    {
     "data": {
      "application/vnd.jupyter.widget-view+json": {
       "model_id": "7eec8456a6754a7380fa4affe604ea7b",
       "version_major": 2,
       "version_minor": 0
      },
      "text/plain": [
       "HBox(children=(IntProgress(value=0, max=45), HTML(value='')))"
      ]
     },
     "metadata": {},
     "output_type": "display_data"
    },
    {
     "name": "stdout",
     "output_type": "stream",
     "text": [
      "\n"
     ]
    },
    {
     "data": {
      "application/vnd.jupyter.widget-view+json": {
       "model_id": "030fcbba7f724592a9761b765020db5e",
       "version_major": 2,
       "version_minor": 0
      },
      "text/plain": [
       "HBox(children=(IntProgress(value=0, max=18), HTML(value='')))"
      ]
     },
     "metadata": {},
     "output_type": "display_data"
    },
    {
     "name": "stdout",
     "output_type": "stream",
     "text": [
      "\n",
      "Analyzing time step: 13\n",
      "Reading data...\n",
      "OK\n"
     ]
    },
    {
     "data": {
      "application/vnd.jupyter.widget-view+json": {
       "model_id": "4c29bf01365e4e11bbe359bccf5be592",
       "version_major": 2,
       "version_minor": 0
      },
      "text/plain": [
       "HBox(children=(IntProgress(value=0, max=45), HTML(value='')))"
      ]
     },
     "metadata": {},
     "output_type": "display_data"
    },
    {
     "name": "stdout",
     "output_type": "stream",
     "text": [
      "\n"
     ]
    },
    {
     "data": {
      "application/vnd.jupyter.widget-view+json": {
       "model_id": "e89212b76ca04a9a9e701649e5a95e70",
       "version_major": 2,
       "version_minor": 0
      },
      "text/plain": [
       "HBox(children=(IntProgress(value=0, max=18), HTML(value='')))"
      ]
     },
     "metadata": {},
     "output_type": "display_data"
    },
    {
     "name": "stdout",
     "output_type": "stream",
     "text": [
      "\n",
      "Analyzing time step: 14\n",
      "Reading data...\n",
      "OK\n"
     ]
    },
    {
     "data": {
      "application/vnd.jupyter.widget-view+json": {
       "model_id": "223e4e61621b49a7976f7f7069d8d1e5",
       "version_major": 2,
       "version_minor": 0
      },
      "text/plain": [
       "HBox(children=(IntProgress(value=0, max=45), HTML(value='')))"
      ]
     },
     "metadata": {},
     "output_type": "display_data"
    },
    {
     "name": "stdout",
     "output_type": "stream",
     "text": [
      "\n"
     ]
    },
    {
     "data": {
      "application/vnd.jupyter.widget-view+json": {
       "model_id": "1583b58729e0474ca5c59fc5dfd86708",
       "version_major": 2,
       "version_minor": 0
      },
      "text/plain": [
       "HBox(children=(IntProgress(value=0, max=18), HTML(value='')))"
      ]
     },
     "metadata": {},
     "output_type": "display_data"
    },
    {
     "name": "stdout",
     "output_type": "stream",
     "text": [
      "\n",
      "Analyzing time step: 15\n",
      "Reading data...\n",
      "OK\n"
     ]
    },
    {
     "data": {
      "application/vnd.jupyter.widget-view+json": {
       "model_id": "6166e1b9569c4ed4b14c6e4dfe467eb5",
       "version_major": 2,
       "version_minor": 0
      },
      "text/plain": [
       "HBox(children=(IntProgress(value=0, max=45), HTML(value='')))"
      ]
     },
     "metadata": {},
     "output_type": "display_data"
    },
    {
     "name": "stdout",
     "output_type": "stream",
     "text": [
      "\n"
     ]
    },
    {
     "data": {
      "application/vnd.jupyter.widget-view+json": {
       "model_id": "c68956cc9ce14c0ba5a240a4d18fc33a",
       "version_major": 2,
       "version_minor": 0
      },
      "text/plain": [
       "HBox(children=(IntProgress(value=0, max=18), HTML(value='')))"
      ]
     },
     "metadata": {},
     "output_type": "display_data"
    },
    {
     "name": "stdout",
     "output_type": "stream",
     "text": [
      "\n",
      "Analyzing time step: 16\n",
      "Reading data...\n",
      "OK\n"
     ]
    },
    {
     "data": {
      "application/vnd.jupyter.widget-view+json": {
       "model_id": "018619ddfa054f4482bde6e19b03c013",
       "version_major": 2,
       "version_minor": 0
      },
      "text/plain": [
       "HBox(children=(IntProgress(value=0, max=45), HTML(value='')))"
      ]
     },
     "metadata": {},
     "output_type": "display_data"
    },
    {
     "name": "stdout",
     "output_type": "stream",
     "text": [
      "\n"
     ]
    },
    {
     "data": {
      "application/vnd.jupyter.widget-view+json": {
       "model_id": "44ed33e60d514dc18847543d4c46cc0f",
       "version_major": 2,
       "version_minor": 0
      },
      "text/plain": [
       "HBox(children=(IntProgress(value=0, max=18), HTML(value='')))"
      ]
     },
     "metadata": {},
     "output_type": "display_data"
    },
    {
     "name": "stdout",
     "output_type": "stream",
     "text": [
      "\n",
      "Analyzing time step: 17\n",
      "Reading data...\n",
      "OK\n"
     ]
    },
    {
     "data": {
      "application/vnd.jupyter.widget-view+json": {
       "model_id": "22a491a4470b404295931d16470a92cb",
       "version_major": 2,
       "version_minor": 0
      },
      "text/plain": [
       "HBox(children=(IntProgress(value=0, max=45), HTML(value='')))"
      ]
     },
     "metadata": {},
     "output_type": "display_data"
    },
    {
     "name": "stdout",
     "output_type": "stream",
     "text": [
      "\n"
     ]
    },
    {
     "data": {
      "application/vnd.jupyter.widget-view+json": {
       "model_id": "a7853f9f2b5c441d8ba45dd5d3ad3092",
       "version_major": 2,
       "version_minor": 0
      },
      "text/plain": [
       "HBox(children=(IntProgress(value=0, max=18), HTML(value='')))"
      ]
     },
     "metadata": {},
     "output_type": "display_data"
    },
    {
     "name": "stdout",
     "output_type": "stream",
     "text": [
      "\n",
      "Analyzing time step: 18\n",
      "Reading data...\n",
      "OK\n"
     ]
    },
    {
     "data": {
      "application/vnd.jupyter.widget-view+json": {
       "model_id": "825e780bbb0b48dab040a6ef2ea4e571",
       "version_major": 2,
       "version_minor": 0
      },
      "text/plain": [
       "HBox(children=(IntProgress(value=0, max=45), HTML(value='')))"
      ]
     },
     "metadata": {},
     "output_type": "display_data"
    },
    {
     "name": "stdout",
     "output_type": "stream",
     "text": [
      "\n"
     ]
    },
    {
     "data": {
      "application/vnd.jupyter.widget-view+json": {
       "model_id": "8d404280b22142979fc0f5a3c4cf8b0e",
       "version_major": 2,
       "version_minor": 0
      },
      "text/plain": [
       "HBox(children=(IntProgress(value=0, max=18), HTML(value='')))"
      ]
     },
     "metadata": {},
     "output_type": "display_data"
    },
    {
     "name": "stdout",
     "output_type": "stream",
     "text": [
      "\n",
      "Analyzing time step: 19\n",
      "Reading data...\n",
      "OK\n"
     ]
    },
    {
     "data": {
      "application/vnd.jupyter.widget-view+json": {
       "model_id": "5e2480c164fa41cfacc779f6fa7443b7",
       "version_major": 2,
       "version_minor": 0
      },
      "text/plain": [
       "HBox(children=(IntProgress(value=0, max=45), HTML(value='')))"
      ]
     },
     "metadata": {},
     "output_type": "display_data"
    },
    {
     "name": "stdout",
     "output_type": "stream",
     "text": [
      "\n"
     ]
    },
    {
     "data": {
      "application/vnd.jupyter.widget-view+json": {
       "model_id": "5f056f8bc5e14184aa8399966bf6df57",
       "version_major": 2,
       "version_minor": 0
      },
      "text/plain": [
       "HBox(children=(IntProgress(value=0, max=18), HTML(value='')))"
      ]
     },
     "metadata": {},
     "output_type": "display_data"
    },
    {
     "name": "stdout",
     "output_type": "stream",
     "text": [
      "\n",
      "Analyzing time step: 20\n",
      "Reading data...\n",
      "OK\n"
     ]
    },
    {
     "data": {
      "application/vnd.jupyter.widget-view+json": {
       "model_id": "9b06673f06034947883f46016aa3779f",
       "version_major": 2,
       "version_minor": 0
      },
      "text/plain": [
       "HBox(children=(IntProgress(value=0, max=45), HTML(value='')))"
      ]
     },
     "metadata": {},
     "output_type": "display_data"
    },
    {
     "name": "stdout",
     "output_type": "stream",
     "text": [
      "\n"
     ]
    },
    {
     "data": {
      "application/vnd.jupyter.widget-view+json": {
       "model_id": "e04e63203c994ac2a10b2cc0bde3ac06",
       "version_major": 2,
       "version_minor": 0
      },
      "text/plain": [
       "HBox(children=(IntProgress(value=0, max=18), HTML(value='')))"
      ]
     },
     "metadata": {},
     "output_type": "display_data"
    },
    {
     "name": "stdout",
     "output_type": "stream",
     "text": [
      "\n",
      "Procesing datasetSpray_61a\n",
      "\n",
      "Analyzing time step: 0\n",
      "Reading data...\n",
      "OK\n"
     ]
    },
    {
     "data": {
      "application/vnd.jupyter.widget-view+json": {
       "model_id": "adee33c3106f4cee8c549ca3d3281856",
       "version_major": 2,
       "version_minor": 0
      },
      "text/plain": [
       "HBox(children=(IntProgress(value=0, max=45), HTML(value='')))"
      ]
     },
     "metadata": {},
     "output_type": "display_data"
    },
    {
     "name": "stdout",
     "output_type": "stream",
     "text": [
      "\n"
     ]
    },
    {
     "data": {
      "application/vnd.jupyter.widget-view+json": {
       "model_id": "e4a19aaaf9024ad2b838acda8f4fcfae",
       "version_major": 2,
       "version_minor": 0
      },
      "text/plain": [
       "HBox(children=(IntProgress(value=0, max=18), HTML(value='')))"
      ]
     },
     "metadata": {},
     "output_type": "display_data"
    },
    {
     "name": "stdout",
     "output_type": "stream",
     "text": [
      "\n",
      "Analyzing time step: 1\n",
      "Reading data...\n",
      "OK\n"
     ]
    },
    {
     "data": {
      "application/vnd.jupyter.widget-view+json": {
       "model_id": "3d68c60a76894940807299136726d55b",
       "version_major": 2,
       "version_minor": 0
      },
      "text/plain": [
       "HBox(children=(IntProgress(value=0, max=45), HTML(value='')))"
      ]
     },
     "metadata": {},
     "output_type": "display_data"
    },
    {
     "name": "stdout",
     "output_type": "stream",
     "text": [
      "\n"
     ]
    },
    {
     "data": {
      "application/vnd.jupyter.widget-view+json": {
       "model_id": "4cc41c5f66184f2dafd349760ab11063",
       "version_major": 2,
       "version_minor": 0
      },
      "text/plain": [
       "HBox(children=(IntProgress(value=0, max=18), HTML(value='')))"
      ]
     },
     "metadata": {},
     "output_type": "display_data"
    },
    {
     "name": "stdout",
     "output_type": "stream",
     "text": [
      "\n",
      "Analyzing time step: 2\n",
      "Reading data...\n",
      "OK\n"
     ]
    },
    {
     "data": {
      "application/vnd.jupyter.widget-view+json": {
       "model_id": "16e140a623514a0790e1a8acc12de65d",
       "version_major": 2,
       "version_minor": 0
      },
      "text/plain": [
       "HBox(children=(IntProgress(value=0, max=45), HTML(value='')))"
      ]
     },
     "metadata": {},
     "output_type": "display_data"
    },
    {
     "name": "stdout",
     "output_type": "stream",
     "text": [
      "\n"
     ]
    },
    {
     "data": {
      "application/vnd.jupyter.widget-view+json": {
       "model_id": "5403292275aa44abbf53f5864829549a",
       "version_major": 2,
       "version_minor": 0
      },
      "text/plain": [
       "HBox(children=(IntProgress(value=0, max=18), HTML(value='')))"
      ]
     },
     "metadata": {},
     "output_type": "display_data"
    },
    {
     "name": "stdout",
     "output_type": "stream",
     "text": [
      "\n",
      "Analyzing time step: 3\n",
      "Reading data...\n",
      "OK\n"
     ]
    },
    {
     "data": {
      "application/vnd.jupyter.widget-view+json": {
       "model_id": "6802c411684a4ec38f5f6040172bce8e",
       "version_major": 2,
       "version_minor": 0
      },
      "text/plain": [
       "HBox(children=(IntProgress(value=0, max=45), HTML(value='')))"
      ]
     },
     "metadata": {},
     "output_type": "display_data"
    },
    {
     "name": "stdout",
     "output_type": "stream",
     "text": [
      "\n"
     ]
    },
    {
     "data": {
      "application/vnd.jupyter.widget-view+json": {
       "model_id": "86c5d48a177f4091834191de187d6836",
       "version_major": 2,
       "version_minor": 0
      },
      "text/plain": [
       "HBox(children=(IntProgress(value=0, max=18), HTML(value='')))"
      ]
     },
     "metadata": {},
     "output_type": "display_data"
    },
    {
     "name": "stdout",
     "output_type": "stream",
     "text": [
      "\n",
      "Analyzing time step: 4\n",
      "Reading data...\n",
      "OK\n"
     ]
    },
    {
     "data": {
      "application/vnd.jupyter.widget-view+json": {
       "model_id": "6d05a5d97f504713a1cafb807fef56cb",
       "version_major": 2,
       "version_minor": 0
      },
      "text/plain": [
       "HBox(children=(IntProgress(value=0, max=45), HTML(value='')))"
      ]
     },
     "metadata": {},
     "output_type": "display_data"
    },
    {
     "name": "stdout",
     "output_type": "stream",
     "text": [
      "\n"
     ]
    },
    {
     "data": {
      "application/vnd.jupyter.widget-view+json": {
       "model_id": "d6f567038ad1440abd808a24a3506006",
       "version_major": 2,
       "version_minor": 0
      },
      "text/plain": [
       "HBox(children=(IntProgress(value=0, max=18), HTML(value='')))"
      ]
     },
     "metadata": {},
     "output_type": "display_data"
    },
    {
     "name": "stdout",
     "output_type": "stream",
     "text": [
      "\n",
      "Analyzing time step: 5\n",
      "Reading data...\n",
      "OK\n"
     ]
    },
    {
     "data": {
      "application/vnd.jupyter.widget-view+json": {
       "model_id": "6e6815e19ed1421082a88c39bd76fa86",
       "version_major": 2,
       "version_minor": 0
      },
      "text/plain": [
       "HBox(children=(IntProgress(value=0, max=45), HTML(value='')))"
      ]
     },
     "metadata": {},
     "output_type": "display_data"
    },
    {
     "name": "stdout",
     "output_type": "stream",
     "text": [
      "\n"
     ]
    },
    {
     "data": {
      "application/vnd.jupyter.widget-view+json": {
       "model_id": "2ea62eff0b0f43f5aadf399f0c7c727d",
       "version_major": 2,
       "version_minor": 0
      },
      "text/plain": [
       "HBox(children=(IntProgress(value=0, max=18), HTML(value='')))"
      ]
     },
     "metadata": {},
     "output_type": "display_data"
    },
    {
     "name": "stdout",
     "output_type": "stream",
     "text": [
      "\n",
      "Analyzing time step: 6\n",
      "Reading data...\n",
      "OK\n"
     ]
    },
    {
     "data": {
      "application/vnd.jupyter.widget-view+json": {
       "model_id": "f7d4cf1dbc6644d0abe562ede8e91f83",
       "version_major": 2,
       "version_minor": 0
      },
      "text/plain": [
       "HBox(children=(IntProgress(value=0, max=45), HTML(value='')))"
      ]
     },
     "metadata": {},
     "output_type": "display_data"
    },
    {
     "name": "stdout",
     "output_type": "stream",
     "text": [
      "\n"
     ]
    },
    {
     "data": {
      "application/vnd.jupyter.widget-view+json": {
       "model_id": "aca623512e9747afa83a28b6c284e7fc",
       "version_major": 2,
       "version_minor": 0
      },
      "text/plain": [
       "HBox(children=(IntProgress(value=0, max=18), HTML(value='')))"
      ]
     },
     "metadata": {},
     "output_type": "display_data"
    },
    {
     "name": "stdout",
     "output_type": "stream",
     "text": [
      "\n",
      "Analyzing time step: 7\n",
      "Reading data...\n",
      "OK\n"
     ]
    },
    {
     "data": {
      "application/vnd.jupyter.widget-view+json": {
       "model_id": "0a60e791f58846c7934ea53437005593",
       "version_major": 2,
       "version_minor": 0
      },
      "text/plain": [
       "HBox(children=(IntProgress(value=0, max=45), HTML(value='')))"
      ]
     },
     "metadata": {},
     "output_type": "display_data"
    },
    {
     "name": "stdout",
     "output_type": "stream",
     "text": [
      "\n"
     ]
    },
    {
     "data": {
      "application/vnd.jupyter.widget-view+json": {
       "model_id": "2635685db0c647a3a685b73314ff3ed4",
       "version_major": 2,
       "version_minor": 0
      },
      "text/plain": [
       "HBox(children=(IntProgress(value=0, max=18), HTML(value='')))"
      ]
     },
     "metadata": {},
     "output_type": "display_data"
    },
    {
     "name": "stdout",
     "output_type": "stream",
     "text": [
      "\n",
      "Analyzing time step: 8\n",
      "Reading data...\n",
      "OK\n"
     ]
    },
    {
     "data": {
      "application/vnd.jupyter.widget-view+json": {
       "model_id": "30543868ef0342d3a30b508e5e9d42e1",
       "version_major": 2,
       "version_minor": 0
      },
      "text/plain": [
       "HBox(children=(IntProgress(value=0, max=45), HTML(value='')))"
      ]
     },
     "metadata": {},
     "output_type": "display_data"
    },
    {
     "name": "stdout",
     "output_type": "stream",
     "text": [
      "\n"
     ]
    },
    {
     "data": {
      "application/vnd.jupyter.widget-view+json": {
       "model_id": "f4e3eeb8171c4e5383669b5409e1e052",
       "version_major": 2,
       "version_minor": 0
      },
      "text/plain": [
       "HBox(children=(IntProgress(value=0, max=18), HTML(value='')))"
      ]
     },
     "metadata": {},
     "output_type": "display_data"
    },
    {
     "name": "stdout",
     "output_type": "stream",
     "text": [
      "\n",
      "Analyzing time step: 9\n",
      "Reading data...\n",
      "OK\n"
     ]
    },
    {
     "data": {
      "application/vnd.jupyter.widget-view+json": {
       "model_id": "675080ae2b5e43368f834b18dd5790bd",
       "version_major": 2,
       "version_minor": 0
      },
      "text/plain": [
       "HBox(children=(IntProgress(value=0, max=45), HTML(value='')))"
      ]
     },
     "metadata": {},
     "output_type": "display_data"
    },
    {
     "name": "stdout",
     "output_type": "stream",
     "text": [
      "\n"
     ]
    },
    {
     "data": {
      "application/vnd.jupyter.widget-view+json": {
       "model_id": "74cdd404557c4e16a60bc78d768d2efc",
       "version_major": 2,
       "version_minor": 0
      },
      "text/plain": [
       "HBox(children=(IntProgress(value=0, max=18), HTML(value='')))"
      ]
     },
     "metadata": {},
     "output_type": "display_data"
    },
    {
     "name": "stdout",
     "output_type": "stream",
     "text": [
      "\n",
      "Analyzing time step: 10\n",
      "Reading data...\n",
      "OK\n"
     ]
    },
    {
     "data": {
      "application/vnd.jupyter.widget-view+json": {
       "model_id": "49ff01e769e64a02a7177f68dee376ef",
       "version_major": 2,
       "version_minor": 0
      },
      "text/plain": [
       "HBox(children=(IntProgress(value=0, max=45), HTML(value='')))"
      ]
     },
     "metadata": {},
     "output_type": "display_data"
    },
    {
     "name": "stdout",
     "output_type": "stream",
     "text": [
      "\n"
     ]
    },
    {
     "data": {
      "application/vnd.jupyter.widget-view+json": {
       "model_id": "159981719b0547f08a8c7b286ee294d3",
       "version_major": 2,
       "version_minor": 0
      },
      "text/plain": [
       "HBox(children=(IntProgress(value=0, max=18), HTML(value='')))"
      ]
     },
     "metadata": {},
     "output_type": "display_data"
    },
    {
     "name": "stdout",
     "output_type": "stream",
     "text": [
      "\n",
      "Analyzing time step: 11\n",
      "Reading data...\n",
      "OK\n"
     ]
    },
    {
     "data": {
      "application/vnd.jupyter.widget-view+json": {
       "model_id": "d78d6421353a41339ec94cd1ad76f17d",
       "version_major": 2,
       "version_minor": 0
      },
      "text/plain": [
       "HBox(children=(IntProgress(value=0, max=45), HTML(value='')))"
      ]
     },
     "metadata": {},
     "output_type": "display_data"
    },
    {
     "name": "stdout",
     "output_type": "stream",
     "text": [
      "\n"
     ]
    },
    {
     "data": {
      "application/vnd.jupyter.widget-view+json": {
       "model_id": "701969d82b284ba1a6a7e6fc61996d94",
       "version_major": 2,
       "version_minor": 0
      },
      "text/plain": [
       "HBox(children=(IntProgress(value=0, max=18), HTML(value='')))"
      ]
     },
     "metadata": {},
     "output_type": "display_data"
    },
    {
     "name": "stdout",
     "output_type": "stream",
     "text": [
      "\n",
      "Analyzing time step: 12\n",
      "Reading data...\n",
      "OK\n"
     ]
    },
    {
     "data": {
      "application/vnd.jupyter.widget-view+json": {
       "model_id": "edb8eddd4ad34fe2a42ea5914f9dc8ba",
       "version_major": 2,
       "version_minor": 0
      },
      "text/plain": [
       "HBox(children=(IntProgress(value=0, max=45), HTML(value='')))"
      ]
     },
     "metadata": {},
     "output_type": "display_data"
    },
    {
     "name": "stdout",
     "output_type": "stream",
     "text": [
      "\n"
     ]
    },
    {
     "data": {
      "application/vnd.jupyter.widget-view+json": {
       "model_id": "eaee5f36544f496797207cc00d8fde02",
       "version_major": 2,
       "version_minor": 0
      },
      "text/plain": [
       "HBox(children=(IntProgress(value=0, max=18), HTML(value='')))"
      ]
     },
     "metadata": {},
     "output_type": "display_data"
    },
    {
     "name": "stdout",
     "output_type": "stream",
     "text": [
      "\n",
      "Analyzing time step: 13\n",
      "Reading data...\n",
      "OK\n"
     ]
    },
    {
     "data": {
      "application/vnd.jupyter.widget-view+json": {
       "model_id": "2c01d55879e44d0c810799033cee63cb",
       "version_major": 2,
       "version_minor": 0
      },
      "text/plain": [
       "HBox(children=(IntProgress(value=0, max=45), HTML(value='')))"
      ]
     },
     "metadata": {},
     "output_type": "display_data"
    },
    {
     "name": "stdout",
     "output_type": "stream",
     "text": [
      "\n"
     ]
    },
    {
     "data": {
      "application/vnd.jupyter.widget-view+json": {
       "model_id": "b2380164f69e4dd9b0b2dac989e349cf",
       "version_major": 2,
       "version_minor": 0
      },
      "text/plain": [
       "HBox(children=(IntProgress(value=0, max=18), HTML(value='')))"
      ]
     },
     "metadata": {},
     "output_type": "display_data"
    },
    {
     "name": "stdout",
     "output_type": "stream",
     "text": [
      "\n",
      "Analyzing time step: 14\n",
      "Reading data...\n",
      "OK\n"
     ]
    },
    {
     "data": {
      "application/vnd.jupyter.widget-view+json": {
       "model_id": "4cf48c48f0f744f88b4b7f1309b317a6",
       "version_major": 2,
       "version_minor": 0
      },
      "text/plain": [
       "HBox(children=(IntProgress(value=0, max=45), HTML(value='')))"
      ]
     },
     "metadata": {},
     "output_type": "display_data"
    },
    {
     "name": "stdout",
     "output_type": "stream",
     "text": [
      "\n"
     ]
    },
    {
     "data": {
      "application/vnd.jupyter.widget-view+json": {
       "model_id": "23cf8c6e650a4a07862afa9b571b4115",
       "version_major": 2,
       "version_minor": 0
      },
      "text/plain": [
       "HBox(children=(IntProgress(value=0, max=18), HTML(value='')))"
      ]
     },
     "metadata": {},
     "output_type": "display_data"
    },
    {
     "name": "stdout",
     "output_type": "stream",
     "text": [
      "\n",
      "Analyzing time step: 15\n",
      "Reading data...\n",
      "OK\n"
     ]
    },
    {
     "data": {
      "application/vnd.jupyter.widget-view+json": {
       "model_id": "c5e8e1e85ceb444d9b2c67cf8adf6f18",
       "version_major": 2,
       "version_minor": 0
      },
      "text/plain": [
       "HBox(children=(IntProgress(value=0, max=45), HTML(value='')))"
      ]
     },
     "metadata": {},
     "output_type": "display_data"
    },
    {
     "name": "stdout",
     "output_type": "stream",
     "text": [
      "\n"
     ]
    },
    {
     "data": {
      "application/vnd.jupyter.widget-view+json": {
       "model_id": "40f5a325712742c995b59817c5e03115",
       "version_major": 2,
       "version_minor": 0
      },
      "text/plain": [
       "HBox(children=(IntProgress(value=0, max=18), HTML(value='')))"
      ]
     },
     "metadata": {},
     "output_type": "display_data"
    },
    {
     "name": "stdout",
     "output_type": "stream",
     "text": [
      "\n",
      "Analyzing time step: 16\n",
      "Reading data...\n",
      "OK\n"
     ]
    },
    {
     "data": {
      "application/vnd.jupyter.widget-view+json": {
       "model_id": "68cc0070ef7945c29b69c88c6592727e",
       "version_major": 2,
       "version_minor": 0
      },
      "text/plain": [
       "HBox(children=(IntProgress(value=0, max=45), HTML(value='')))"
      ]
     },
     "metadata": {},
     "output_type": "display_data"
    },
    {
     "name": "stdout",
     "output_type": "stream",
     "text": [
      "\n"
     ]
    },
    {
     "data": {
      "application/vnd.jupyter.widget-view+json": {
       "model_id": "a67de974dd2841e8a1bce28d1a1153be",
       "version_major": 2,
       "version_minor": 0
      },
      "text/plain": [
       "HBox(children=(IntProgress(value=0, max=18), HTML(value='')))"
      ]
     },
     "metadata": {},
     "output_type": "display_data"
    },
    {
     "name": "stdout",
     "output_type": "stream",
     "text": [
      "\n",
      "Analyzing time step: 17\n",
      "Reading data...\n",
      "OK\n"
     ]
    },
    {
     "data": {
      "application/vnd.jupyter.widget-view+json": {
       "model_id": "c351b0fe7214430ba6823671af4d731a",
       "version_major": 2,
       "version_minor": 0
      },
      "text/plain": [
       "HBox(children=(IntProgress(value=0, max=45), HTML(value='')))"
      ]
     },
     "metadata": {},
     "output_type": "display_data"
    },
    {
     "name": "stdout",
     "output_type": "stream",
     "text": [
      "\n"
     ]
    },
    {
     "data": {
      "application/vnd.jupyter.widget-view+json": {
       "model_id": "79fe1419fef849fcb4275126a063e470",
       "version_major": 2,
       "version_minor": 0
      },
      "text/plain": [
       "HBox(children=(IntProgress(value=0, max=18), HTML(value='')))"
      ]
     },
     "metadata": {},
     "output_type": "display_data"
    },
    {
     "name": "stdout",
     "output_type": "stream",
     "text": [
      "\n",
      "Analyzing time step: 18\n",
      "Reading data...\n",
      "OK\n"
     ]
    },
    {
     "data": {
      "application/vnd.jupyter.widget-view+json": {
       "model_id": "5069d28f803c40859db715a8931aa45b",
       "version_major": 2,
       "version_minor": 0
      },
      "text/plain": [
       "HBox(children=(IntProgress(value=0, max=45), HTML(value='')))"
      ]
     },
     "metadata": {},
     "output_type": "display_data"
    },
    {
     "name": "stdout",
     "output_type": "stream",
     "text": [
      "\n"
     ]
    },
    {
     "data": {
      "application/vnd.jupyter.widget-view+json": {
       "model_id": "909bf68dd13c47368136da9f9b44ef41",
       "version_major": 2,
       "version_minor": 0
      },
      "text/plain": [
       "HBox(children=(IntProgress(value=0, max=18), HTML(value='')))"
      ]
     },
     "metadata": {},
     "output_type": "display_data"
    },
    {
     "name": "stdout",
     "output_type": "stream",
     "text": [
      "\n",
      "Analyzing time step: 19\n",
      "Reading data...\n",
      "OK\n"
     ]
    },
    {
     "data": {
      "application/vnd.jupyter.widget-view+json": {
       "model_id": "b6b3c93be20e4e7a97dc0af8c9fe172c",
       "version_major": 2,
       "version_minor": 0
      },
      "text/plain": [
       "HBox(children=(IntProgress(value=0, max=45), HTML(value='')))"
      ]
     },
     "metadata": {},
     "output_type": "display_data"
    },
    {
     "name": "stdout",
     "output_type": "stream",
     "text": [
      "\n"
     ]
    },
    {
     "data": {
      "application/vnd.jupyter.widget-view+json": {
       "model_id": "c3d37b1080304ba29412d123123e69be",
       "version_major": 2,
       "version_minor": 0
      },
      "text/plain": [
       "HBox(children=(IntProgress(value=0, max=18), HTML(value='')))"
      ]
     },
     "metadata": {},
     "output_type": "display_data"
    },
    {
     "name": "stdout",
     "output_type": "stream",
     "text": [
      "\n",
      "Analyzing time step: 20\n",
      "Reading data...\n",
      "OK\n"
     ]
    },
    {
     "data": {
      "application/vnd.jupyter.widget-view+json": {
       "model_id": "b318d970b2e64c8b912a67e87a3bb022",
       "version_major": 2,
       "version_minor": 0
      },
      "text/plain": [
       "HBox(children=(IntProgress(value=0, max=45), HTML(value='')))"
      ]
     },
     "metadata": {},
     "output_type": "display_data"
    },
    {
     "name": "stdout",
     "output_type": "stream",
     "text": [
      "\n"
     ]
    },
    {
     "data": {
      "application/vnd.jupyter.widget-view+json": {
       "model_id": "791e5ed116b540ce8f7edc6265a115c5",
       "version_major": 2,
       "version_minor": 0
      },
      "text/plain": [
       "HBox(children=(IntProgress(value=0, max=18), HTML(value='')))"
      ]
     },
     "metadata": {},
     "output_type": "display_data"
    },
    {
     "name": "stdout",
     "output_type": "stream",
     "text": [
      "\n",
      "Finished!\n"
     ]
    }
   ],
   "source": [
    "#---------------------------------------------\n",
    "# Process\n",
    "#---------------------------------------------\n",
    "side_view = True\n",
    "top_view = True\n",
    "\n",
    "start_indexes = [3,0,0]\n",
    "\n",
    "# Foar all datasets\n",
    "for d in range(0,3):\n",
    "    \n",
    "    print('Procesing dataset{}\\n'.format(datasets[d]))\n",
    "    \n",
    "    \n",
    "    input_path = data_path / datasets[d] / 'input'\n",
    "    output_path = data_path / datasets[d] / 'output'\n",
    "    res_path = data_path / datasets[d] / 'results'\n",
    "    \n",
    "    start = start_indexes[d] \n",
    "    \n",
    "    \n",
    "    for t in range(start,21):\n",
    "\n",
    "        print('Analyzing time step: {}'.format(t))\n",
    "\n",
    "        time_frame = t\n",
    "\n",
    "        print('Reading data...')\n",
    "        orig = read_3d_volume(input_path / '{}_scaled2_{}-{}-{}.raw'.format(str(time_frame).zfill(3), nx, nz, ny), nx, ny, nz, np.uint8)\n",
    "        u = read_3d_volume(output_path / '{}_flow-u-{}-{}-{}.raw'.format(str(time_frame).zfill(3), nx, ny, nz), nx, ny, nz)\n",
    "        v = read_3d_volume(output_path / '{}_flow-v-{}-{}-{}.raw'.format(str(time_frame).zfill(3), nx, ny, nz), nx, ny, nz)\n",
    "        w = read_3d_volume(output_path / '{}_flow-w-{}-{}-{}.raw'.format(str(time_frame).zfill(3), nx, ny, nz), nx, ny, nz)\n",
    "        print('OK')\n",
    "        \n",
    "        #----------------------\n",
    "        # Side view\n",
    "        #----------------------\n",
    "        if side_view:\n",
    "            # For all z-slices\n",
    "            step = 10\n",
    "            for i in tqdm(range(0, nz, step)):\n",
    "\n",
    "                view = 'side'\n",
    "                img = orig[i]\n",
    "                fx = u[i] \n",
    "                fy = v[i]\n",
    "                fz = w[i]\n",
    "\n",
    "                #make_figure(img, fx, fy, fz, 3, s)\n",
    "                #print('Making view: {}'.format(view))\n",
    "                make_figure(img, fx, fy, fz, t, i, view, save=True)   \n",
    "\n",
    "        #----------------------\n",
    "        # Top view view\n",
    "        #----------------------\n",
    "        if top_view:\n",
    "            # For all y-cuts\n",
    "            step = 10\n",
    "            for i in tqdm(range(0, ny, step)):\n",
    "\n",
    "                view = 'top'\n",
    "                img = orig[:,i]\n",
    "                fx = u[:,i] \n",
    "                fy = w[:,i] \n",
    "                fz = v[:,i] \n",
    "\n",
    "                #make_figure(img, fx, fy, fz, 3, s)\n",
    "                #print('Making view: {}'.format(view))\n",
    "                make_figure(img, fx, fy, fz, t, i, view, save=True)   \n",
    "\n",
    "\n",
    "\n",
    "print('Finished!')"
   ]
  },
  {
   "cell_type": "code",
   "execution_count": 49,
   "metadata": {},
   "outputs": [
    {
     "data": {
      "image/png": "[encoded data removed]",
      "text/plain": [
       "<Figure size 720x504 with 2 Axes>"
      ]
     },
     "metadata": {},
     "output_type": "display_data"
    }
   ],
   "source": [
    "#Show 2D vector field\n",
    "show_2d = True\n",
    "\n",
    "step = 5\n",
    "\n",
    "if show_2d:\n",
    "    x = np.arange(0, nx-1, step)\n",
    "    y = np.arange(0, ny-1, step)\n",
    "    \n",
    "    xx, yy = np.meshgrid(x, y)\n",
    "    \n",
    "    pu = u[z_slice, yy, xx]\n",
    "    pv = v[z_slice, yy, xx]\n",
    "    \n",
    "    pu = np.flipud(1*pu)\n",
    "    pv = np.flipud(-1*pv)\n",
    "    \n",
    "    amp = np.sqrt(pow(pu, 2) + pow(pv, 2))\n",
    "    \n",
    "    threshold = 0.1\n",
    "    \n",
    "    masking = 1\n",
    "    if masking == 1:\n",
    "        m = np.where(amp <= threshold, np.ones(pu.shape), np.zeros(pu.shape))\n",
    "        \n",
    "        #print amp\n",
    "        #print m\n",
    "    \n",
    "        pu = ma.masked_array(pu, mask=m)\n",
    "        pv = ma.masked_array(pv, mask=m)\n",
    "        amp = ma.masked_array(amp, mask=m)\n",
    "        xx = ma.masked_array(xx, mask=m)\n",
    "        yy = ma.masked_array(yy, mask=m)\n",
    "\n",
    "        \n",
    "\n",
    "    #Q = plt.quiver(xx, yy, pu, pv, amp, scale=scale.value / 10)\n",
    "    plt.figure(figsize=fig_size, facecolor='w', edgecolor='k')\n",
    "    Q = plt.quiver(xx, yy, pu, pv, amp, scale=50.0)\n",
    "    plt.title('Displacement field, Vectors. t = ' + str(time_frame))\n",
    "    plt.xlim(0,nx)\n",
    "    plt.ylim(0,ny)\n",
    "    plt.colorbar()\n",
    "   \n",
    "    \n",
    "    #Q = plt.quiver(pu[z_slice], pv[z_slice])\n",
    "    #plt.savefig(path_output + 'frame'+str(time_frame)+ '_fig_' +'vec.png', dpi=output_dpi)  \n",
    "    plt.show()"
   ]
  },
  {
   "cell_type": "code",
   "execution_count": 61,
   "metadata": {},
   "outputs": [
    {
     "ename": "NameError",
     "evalue": "name 'atan' is not defined",
     "output_type": "error",
     "traceback": [
      "\u001b[1;31m---------------------------------------------------------------------------\u001b[0m",
      "\u001b[1;31mNameError\u001b[0m                                 Traceback (most recent call last)",
      "\u001b[1;32m<ipython-input-61-06f3539e1bf0>\u001b[0m in \u001b[0;36m<module>\u001b[1;34m\u001b[0m\n\u001b[1;32m----> 1\u001b[1;33m \u001b[0mprint\u001b[0m\u001b[1;33m(\u001b[0m\u001b[0mconvertToRGB\u001b[0m\u001b[1;33m(\u001b[0m\u001b[1;36m10\u001b[0m\u001b[1;33m,\u001b[0m\u001b[1;36m0\u001b[0m\u001b[1;33m)\u001b[0m\u001b[1;33m)\u001b[0m\u001b[1;33m\u001b[0m\u001b[1;33m\u001b[0m\u001b[0m\n\u001b[0m",
      "\u001b[1;32m<ipython-input-60-fc57d95b1204>\u001b[0m in \u001b[0;36mconvertToRGB\u001b[1;34m(x, y)\u001b[0m\n\u001b[0;32m     47\u001b[0m     \u001b[1;32melif\u001b[0m \u001b[0mx\u001b[0m \u001b[1;33m>\u001b[0m \u001b[1;36m0.0\u001b[0m\u001b[1;33m:\u001b[0m\u001b[1;33m\u001b[0m\u001b[1;33m\u001b[0m\u001b[0m\n\u001b[0;32m     48\u001b[0m         \u001b[1;32mif\u001b[0m \u001b[0my\u001b[0m \u001b[1;33m>=\u001b[0m \u001b[1;36m0.0\u001b[0m\u001b[1;33m:\u001b[0m\u001b[1;33m\u001b[0m\u001b[1;33m\u001b[0m\u001b[0m\n\u001b[1;32m---> 49\u001b[1;33m             \u001b[0mphi\u001b[0m \u001b[1;33m=\u001b[0m \u001b[0matan\u001b[0m \u001b[1;33m(\u001b[0m\u001b[0my\u001b[0m\u001b[1;33m/\u001b[0m\u001b[0mx\u001b[0m\u001b[1;33m)\u001b[0m\u001b[1;33m;\u001b[0m\u001b[1;33m\u001b[0m\u001b[1;33m\u001b[0m\u001b[0m\n\u001b[0m\u001b[0;32m     50\u001b[0m         \u001b[1;32melse\u001b[0m\u001b[1;33m:\u001b[0m\u001b[1;33m\u001b[0m\u001b[1;33m\u001b[0m\u001b[0m\n\u001b[0;32m     51\u001b[0m             \u001b[0mphi\u001b[0m \u001b[1;33m=\u001b[0m \u001b[1;36m2.0\u001b[0m \u001b[1;33m*\u001b[0m \u001b[0mPI\u001b[0m \u001b[1;33m+\u001b[0m \u001b[0matan\u001b[0m \u001b[1;33m(\u001b[0m\u001b[0my\u001b[0m\u001b[1;33m/\u001b[0m\u001b[0mx\u001b[0m\u001b[1;33m)\u001b[0m\u001b[1;33m;\u001b[0m\u001b[1;33m\u001b[0m\u001b[1;33m\u001b[0m\u001b[0m\n",
      "\u001b[1;31mNameError\u001b[0m: name 'atan' is not defined"
     ]
    }
   ],
   "source": []
  },
  {
   "cell_type": "code",
   "execution_count": 128,
   "metadata": {},
   "outputs": [
    {
     "data": {
      "image/png": "[encoded data removed]",
      "text/plain": [
       "<Figure size 640x480 with 1 Axes>"
      ]
     },
     "metadata": {},
     "output_type": "display_data"
    },
    {
     "data": {
      "image/png": "[encoded data removed]",
      "text/plain": [
       "<Figure size 640x480 with 1 Axes>"
      ]
     },
     "metadata": {},
     "output_type": "display_data"
    },
    {
     "data": {
      "image/png": "[encoded data removed]",
      "text/plain": [
       "<Figure size 640x480 with 1 Axes>"
      ]
     },
     "metadata": {},
     "output_type": "display_data"
    },
    {
     "data": {
      "image/png": "[encoded data removed]",
      "text/plain": [
       "<Figure size 640x480 with 1 Axes>"
      ]
     },
     "metadata": {},
     "output_type": "display_data"
    }
   ],
   "source": [
    "\n",
    "\n",
    "im = orig[150]\n",
    "\n",
    "plt.imshow(im, cmap='gray')\n",
    "plt.show()\n",
    "\n",
    "ret2,th2 = cv2.threshold(im,0,255,cv2.THRESH_BINARY+cv2.THRESH_OTSU)\n",
    "\n",
    "plt.imshow(th2, cmap='gray')\n",
    "plt.show()\n",
    "\n",
    "kernel = np.ones((5,5),np.uint8)\n",
    "closing = cv2.morphologyEx(th2, cv2.MORPH_CLOSE, kernel)\n",
    "\n",
    "plt.imshow(closing, cmap='gray')\n",
    "plt.show()\n",
    "\n",
    "# Copy the thresholded image.\n",
    "im_floodfill = closing.copy()\n",
    "\n",
    "h, w = closing.shape[:2]\n",
    "mask = np.zeros((h+2, w+2), np.uint8)\n",
    "\n",
    "cv2.floodFill(im_floodfill, mask, (0,0), 255);\n",
    "\n",
    "# Invert floodfilled image\n",
    "im_floodfill_inv = cv2.bitwise_not(im_floodfill)\n",
    " \n",
    "# Combine the two images to get the foreground.\n",
    "im_out = closing | im_floodfill_inv\n",
    "\n",
    "plt.imshow(im_out, cmap='gray')\n",
    "plt.show()\n",
    "\n",
    "def make_mask(im):\n",
    "    ret2,th2 = cv2.threshold(im,0,255,cv2.THRESH_BINARY+cv2.THRESH_OTSU)\n",
    "    \n",
    "    kernel = np.ones((5,5),np.uint8)\n",
    "    closing = cv2.morphologyEx(th2, cv2.MORPH_CLOSE, kernel)\n",
    "    \n",
    "    # Copy the thresholded image.\n",
    "    im_floodfill = closing.copy()\n",
    "    h, w = closing.shape[:2]\n",
    "    mask = np.zeros((h+2, w+2), np.uint8)\n",
    "    cv2.floodFill(im_floodfill, mask, (0,0), 255);\n",
    "    # Invert floodfilled image\n",
    "    im_floodfill_inv = cv2.bitwise_not(im_floodfill) \n",
    "    # Combine the two images to get the foreground.\n",
    "    im_out = closing | im_floodfill_inv\n",
    "    \n",
    "    return im_out"
   ]
  },
  {
   "cell_type": "code",
   "execution_count": 131,
   "metadata": {},
   "outputs": [
    {
     "data": {
      "image/png": "[encoded data removed]",
      "text/plain": [
       "<Figure size 640x480 with 2 Axes>"
      ]
     },
     "metadata": {},
     "output_type": "display_data"
    }
   ],
   "source": [
    "plt.imshow(make_mask(im))\n",
    "plt.colorbar()\n",
    "plt.show()"
   ]
  },
  {
   "cell_type": "code",
   "execution_count": null,
   "metadata": {},
   "outputs": [],
   "source": []
  }
 ],
 "metadata": {
  "kernelspec": {
   "display_name": "Python 3",
   "language": "python",
   "name": "python3"
  },
  "language_info": {
   "codemirror_mode": {
    "name": "ipython",
    "version": 3
   },
   "file_extension": ".py",
   "mimetype": "text/x-python",
   "name": "python",
   "nbconvert_exporter": "python",
   "pygments_lexer": "ipython3",
   "version": "3.7.3"
  }
 },
 "nbformat": 4,
 "nbformat_minor": 2
}
